{
 "cells": [
  {
   "cell_type": "code",
   "execution_count": 189,
   "metadata": {},
   "outputs": [],
   "source": [
    "import pandas as pd\n",
    "from sklearn.model_selection import train_test_split"
   ]
  },
  {
   "cell_type": "code",
   "execution_count": null,
   "metadata": {},
   "outputs": [],
   "source": []
  },
  {
   "cell_type": "code",
   "execution_count": 190,
   "metadata": {},
   "outputs": [],
   "source": [
    "df = pd.read_csv('data/data.csv')"
   ]
  },
  {
   "cell_type": "code",
   "execution_count": 191,
   "metadata": {},
   "outputs": [
    {
     "data": {
      "text/html": [
       "<div>\n",
       "<style scoped>\n",
       "    .dataframe tbody tr th:only-of-type {\n",
       "        vertical-align: middle;\n",
       "    }\n",
       "\n",
       "    .dataframe tbody tr th {\n",
       "        vertical-align: top;\n",
       "    }\n",
       "\n",
       "    .dataframe thead th {\n",
       "        text-align: right;\n",
       "    }\n",
       "</style>\n",
       "<table border=\"1\" class=\"dataframe\">\n",
       "  <thead>\n",
       "    <tr style=\"text-align: right;\">\n",
       "      <th></th>\n",
       "      <th>Text</th>\n",
       "      <th>Polarity</th>\n",
       "    </tr>\n",
       "  </thead>\n",
       "  <tbody>\n",
       "    <tr>\n",
       "      <th>0</th>\n",
       "      <td>আমাদের সজাগ থাকতে হবে টিকা নেওয়া নিয়ে।</td>\n",
       "      <td>1</td>\n",
       "    </tr>\n",
       "    <tr>\n",
       "      <th>1</th>\n",
       "      <td>ভ্যাকসিন ভালো না।</td>\n",
       "      <td>0</td>\n",
       "    </tr>\n",
       "    <tr>\n",
       "      <th>2</th>\n",
       "      <td>আমার পরিবারের সকলেই টিকা নিয়েছে।</td>\n",
       "      <td>1</td>\n",
       "    </tr>\n",
       "    <tr>\n",
       "      <th>3</th>\n",
       "      <td>টিকা লক্ষণীয় রোগ প্রতিরোধে একইভাবে উচ্চ কার্য...</td>\n",
       "      <td>1</td>\n",
       "    </tr>\n",
       "    <tr>\n",
       "      <th>4</th>\n",
       "      <td>অনলাইনে আবেদন করে আমি ভ্যাকসিন নিয়েছি।</td>\n",
       "      <td>1</td>\n",
       "    </tr>\n",
       "  </tbody>\n",
       "</table>\n",
       "</div>"
      ],
      "text/plain": [
       "                                                Text  Polarity\n",
       "0            আমাদের সজাগ থাকতে হবে টিকা নেওয়া নিয়ে।          1\n",
       "1                                  ভ্যাকসিন ভালো না।         0\n",
       "2                 আমার পরিবারের সকলেই টিকা নিয়েছে।          1\n",
       "3  টিকা লক্ষণীয় রোগ প্রতিরোধে একইভাবে উচ্চ কার্য...         1\n",
       "4           অনলাইনে আবেদন করে আমি ভ্যাকসিন নিয়েছি।          1"
      ]
     },
     "execution_count": 191,
     "metadata": {},
     "output_type": "execute_result"
    }
   ],
   "source": [
    "df.head()"
   ]
  },
  {
   "cell_type": "code",
   "execution_count": 192,
   "metadata": {},
   "outputs": [
    {
     "data": {
      "text/html": [
       "<div>\n",
       "<style scoped>\n",
       "    .dataframe tbody tr th:only-of-type {\n",
       "        vertical-align: middle;\n",
       "    }\n",
       "\n",
       "    .dataframe tbody tr th {\n",
       "        vertical-align: top;\n",
       "    }\n",
       "\n",
       "    .dataframe thead th {\n",
       "        text-align: right;\n",
       "    }\n",
       "</style>\n",
       "<table border=\"1\" class=\"dataframe\">\n",
       "  <thead>\n",
       "    <tr style=\"text-align: right;\">\n",
       "      <th></th>\n",
       "      <th>Text</th>\n",
       "      <th>Polarity</th>\n",
       "    </tr>\n",
       "  </thead>\n",
       "  <tbody>\n",
       "    <tr>\n",
       "      <th>1011</th>\n",
       "      <td>কেন্দ্রে প্রচণ্ড ভিড় থাকায় অনেকে ভেক্সিন পায...</td>\n",
       "      <td>0</td>\n",
       "    </tr>\n",
       "    <tr>\n",
       "      <th>3182</th>\n",
       "      <td>ভ্যাকসিন দিতে গিয়ে কোনরকম ঝামেলার সম্মুখীন হত...</td>\n",
       "      <td>1</td>\n",
       "    </tr>\n",
       "    <tr>\n",
       "      <th>3350</th>\n",
       "      <td>করোনার ভ্যাকসিনগুলি আপনাকে করোনায় অসুস্থ করতে ...</td>\n",
       "      <td>1</td>\n",
       "    </tr>\n",
       "    <tr>\n",
       "      <th>897</th>\n",
       "      <td>ভ্যাকসিন নিয়ে আমি ভালো আছি।</td>\n",
       "      <td>1</td>\n",
       "    </tr>\n",
       "    <tr>\n",
       "      <th>2293</th>\n",
       "      <td>টিকা ছাড়াও ভালো হয়।</td>\n",
       "      <td>0</td>\n",
       "    </tr>\n",
       "  </tbody>\n",
       "</table>\n",
       "</div>"
      ],
      "text/plain": [
       "                                                   Text  Polarity\n",
       "1011  কেন্দ্রে প্রচণ্ড ভিড় থাকায় অনেকে ভেক্সিন পায...         0\n",
       "3182  ভ্যাকসিন দিতে গিয়ে কোনরকম ঝামেলার সম্মুখীন হত...         1\n",
       "3350  করোনার ভ্যাকসিনগুলি আপনাকে করোনায় অসুস্থ করতে ...         1\n",
       "897                        ভ্যাকসিন নিয়ে আমি ভালো আছি।         1\n",
       "2293                               টিকা ছাড়াও ভালো হয়।         0"
      ]
     },
     "execution_count": 192,
     "metadata": {},
     "output_type": "execute_result"
    }
   ],
   "source": [
    "df_shuffle = df.sample(frac = 1,random_state=42)\n",
    "df_shuffle.head()"
   ]
  },
  {
   "cell_type": "code",
   "execution_count": 193,
   "metadata": {},
   "outputs": [
    {
     "data": {
      "text/plain": [
       "1    2007\n",
       "0    1800\n",
       "Name: Polarity, dtype: int64"
      ]
     },
     "execution_count": 193,
     "metadata": {},
     "output_type": "execute_result"
    }
   ],
   "source": [
    "df['Polarity'].value_counts()"
   ]
  },
  {
   "cell_type": "code",
   "execution_count": 194,
   "metadata": {},
   "outputs": [],
   "source": [
    "train_sentence,test_sentence,train_label,test_label = train_test_split(df_shuffle['Text'].to_numpy(),df_shuffle['Polarity'].to_numpy(),test_size=0.2,random_state=42)"
   ]
  },
  {
   "cell_type": "code",
   "execution_count": 195,
   "metadata": {},
   "outputs": [
    {
     "data": {
      "text/plain": [
       "array(['সময় মত ২য় ডোজ নিতে দেরি করলে মানুষ মারা যায়।',\n",
       "       'টিকা নিতে হবে। টিকে থাকতে হবে এই মহামারীতে।',\n",
       "       'টিকা নেওয়ার পর আমার জ্বর এসেছিলো। আমি মনে করি যে টিকাটি আমার শরীরের ঠিক কাজ করেছে।',\n",
       "       'কিছু ধরণের COVID-19 ভ্যাকসিন মেসেঞ্জার RNA (mRNA) ব্যবহার করে তৈরি করা হয়েছে, এটি একটি নতুন প্রযুক্তি যা প্রচলিত পদ্ধতির ভ্যাকসিন তৈরির চেয়ে দ্রুত পদ্ধতির অনুমতি দেয়।',\n",
       "       'আপনার কাছে যখন বিকল্প উপায়ে থাকে, তখন ভ্যাকসিন নেওয়ার কোনো প্রয়োজন নেই।',\n",
       "       'ভেকসিনই একমাত্র উপায় নয় আরও অনেক উপায় আছে।',\n",
       "       'সরকারের পক্ষ থেকে ইউনিয়নভিত্তিক টিকা প্রদানের যে পরিকল্পনা গ্রহণ করা হয়েছে সেখানে অনেক দুর্নীতি হচ্ছে। ',\n",
       "       'টিকার জন্য নিবন্ধন করেছি কিন্তু আমার এসএমএস আসছে না',\n",
       "       'আমি বিদেশ যাবো দেখে আগে আগেই টিকা নিয়ে নিছি। ',\n",
       "       'টিকা গ্রহণের পর দুর্বল হয়ে যায় বা টিকা গ্রহণের পর লোকে মারা যায়, গ্রাম ও প্রত্যন্ত অঞ্চলে এই ধরণের লোকেদের ভুল বিশ্বাস ভাঙা উচিত বলেও জানিয়েছেন।'],\n",
       "      dtype=object)"
      ]
     },
     "execution_count": 195,
     "metadata": {},
     "output_type": "execute_result"
    }
   ],
   "source": [
    "train_sentence[:10]"
   ]
  },
  {
   "cell_type": "code",
   "execution_count": 196,
   "metadata": {},
   "outputs": [
    {
     "name": "stdout",
     "output_type": "stream",
     "text": [
      "Target:1 (Positive FeedBack)\n",
      "Text\n",
      " আমার আব্বা আম্মা দুইজনেরই করোনা হইছিলো।তারা পরে টিকা নিছে।\n",
      "\n",
      "---\n",
      "\n",
      "Target:0 (Negative FeedBack)\n",
      "Text\n",
      " টিকা নিবো না আমি।\n",
      "\n",
      "---\n",
      "\n",
      "Target:1 (Positive FeedBack)\n",
      "Text\n",
      " টিকা নিয়াই তো বাঁইচা আছি।টিকা ছাড়া কি আর বাঁচবার পারতাম। \n",
      "\n",
      "---\n",
      "\n",
      "Target:1 (Positive FeedBack)\n",
      "Text\n",
      " ৬৫ বছরের বেশি বয়সীদের ক্ষেত্রে টিকার  ৯৪ শতাংশ কার্যকর।\n",
      "\n",
      "---\n",
      "\n",
      "Target:1 (Positive FeedBack)\n",
      "Text\n",
      " যাদের রোগ প্রতিরোধ ক্ষমতা ভাল শরীরে, তাদেরও টিকা নেয়া জরুরী। কোভিড সংক্রমণ রোধে সবাই ভ্যাক্সিনেটেড হলেই আমরা শঙ্কামুক্ত হবো।\n",
      "\n",
      "---\n",
      "\n"
     ]
    }
   ],
   "source": [
    "# visualize some random training examples\n",
    "\n",
    "import random\n",
    "\n",
    "random_index = random.randint(0,len(train_sentence) -5)\n",
    "\n",
    "for row in df_shuffle[['Text','Polarity']][random_index:random_index+5].itertuples():\n",
    "    _,text,polarity = row\n",
    "    print(f\"Target:{polarity}\", \"(Positive FeedBack)\" if polarity > 0 else \"(Negative FeedBack)\")\n",
    "    print(f\"Text\\n {text}\\n\")\n",
    "    print(\"---\\n\")\n"
   ]
  },
  {
   "cell_type": "code",
   "execution_count": 197,
   "metadata": {},
   "outputs": [
    {
     "data": {
      "text/plain": [
       "(3045, 3045, 762, 762)"
      ]
     },
     "execution_count": 197,
     "metadata": {},
     "output_type": "execute_result"
    }
   ],
   "source": [
    "\n",
    "len(train_sentence), len(train_label),len(test_sentence),len(test_label)"
   ]
  },
  {
   "cell_type": "code",
   "execution_count": 198,
   "metadata": {},
   "outputs": [],
   "source": [
    "import tensorflow as tf\n",
    "from keras.layers.preprocessing.text_vectorization import TextVectorization\n",
    "import numpy as np\n",
    "\n",
    "text_vec = TextVectorization()"
   ]
  },
  {
   "cell_type": "code",
   "execution_count": 199,
   "metadata": {},
   "outputs": [],
   "source": [
    "average_word_per_sentence = round(sum(len(i.split()) for i in train_sentence)/len(train_sentence))"
   ]
  },
  {
   "attachments": {},
   "cell_type": "markdown",
   "metadata": {},
   "source": [
    "### Settings Parmaeters for TextVectorization\n",
    "\n",
    "\n"
   ]
  },
  {
   "cell_type": "code",
   "execution_count": 200,
   "metadata": {},
   "outputs": [],
   "source": [
    "max_vocab_length = 10000\n",
    "max_length = average_word_per_sentence\n",
    "text_vectorized = TextVectorization(\n",
    "    max_tokens=max_vocab_length,\n",
    "    output_mode='int',\n",
    "    output_sequence_length=max_length)"
   ]
  },
  {
   "cell_type": "code",
   "execution_count": 201,
   "metadata": {},
   "outputs": [],
   "source": [
    "text_vectorized.adapt(train_sentence)"
   ]
  },
  {
   "cell_type": "code",
   "execution_count": 202,
   "metadata": {},
   "outputs": [
    {
     "data": {
      "text/plain": [
       "<tf.Tensor: shape=(1, 11), dtype=int64, numpy=array([[152, 498, 522,  10,  14, 672, 569,  33, 175, 189,   0]])>"
      ]
     },
     "execution_count": 202,
     "metadata": {},
     "output_type": "execute_result"
    }
   ],
   "source": [
    "sample_sentence = 'সময় মত ২য় ডোজ নিতে দেরি করলে মানুষ মারা যায়।'\n",
    "\n",
    "text_vectorized([sample_sentence])"
   ]
  },
  {
   "cell_type": "code",
   "execution_count": 203,
   "metadata": {},
   "outputs": [
    {
     "name": "stdout",
     "output_type": "stream",
     "text": [
      "Original text:\n",
      "\n",
      "ভেকসিন কি মানুষ মারার জন্য।\n",
      "\n",
      " Vectorized version : [[  29   42   33 1134 1013    0    0    0    0    0    0]]\n"
     ]
    }
   ],
   "source": [
    "\n",
    "random_sentence = random.choice(train_sentence)\n",
    "print(f\"Original text:\\n\\n{random_sentence}\\n\\n Vectorized version : {text_vectorized([random_sentence])}\")"
   ]
  },
  {
   "cell_type": "code",
   "execution_count": 204,
   "metadata": {},
   "outputs": [
    {
     "name": "stdout",
     "output_type": "stream",
     "text": [
      "Number of words in vocabulary 5201\n",
      "\n",
      "Top 10 words : ['', '[UNK]', 'টিকা', 'ভ্যাকসিন', 'আমি', 'না।', 'না', 'করোনা', 'জন্য', 'এবং']\n",
      "Bottom 10 words : ['c130j', 'astrazenecaএর', '95।', '95', '90', '6', '3', '25', '18', '10']\n"
     ]
    }
   ],
   "source": [
    "\n",
    "\n",
    "word_to_vocab = text_vectorized.get_vocabulary()\n",
    "\n",
    "top_10_word = word_to_vocab[:10]\n",
    "bottom_10_word = word_to_vocab[-10:]\n",
    "\n",
    "print(f\"Number of words in vocabulary {len(word_to_vocab)}\\n\")\n",
    "print(f\"Top 10 words : {top_10_word}\")\n",
    "print(f\"Bottom 10 words : {bottom_10_word}\")"
   ]
  },
  {
   "cell_type": "code",
   "execution_count": 221,
   "metadata": {},
   "outputs": [
    {
     "data": {
      "text/plain": [
       "<keras.layers.core.embedding.Embedding at 0x136159d80>"
      ]
     },
     "execution_count": 221,
     "metadata": {},
     "output_type": "execute_result"
    }
   ],
   "source": [
    "# making an embedding layer\n",
    "\n",
    "from keras.layers import Embedding\n",
    "\n",
    "embedding = Embedding(\n",
    "    input_dim=max_vocab_length,\n",
    "    output_dim=128,\n",
    "    input_length=max_length,\n",
    "   \n",
    ")\n",
    "embedding"
   ]
  },
  {
   "cell_type": "code",
   "execution_count": 206,
   "metadata": {},
   "outputs": [
    {
     "name": "stdout",
     "output_type": "stream",
     "text": [
      " Original Text :\n",
      "\n",
      " সম্প্রতি বিকশিত কোভিড-১৯ ভ্যাকসিনের সম্ভাব্যতা উপলব্ধি করতে, চিকিত্সকদের অবশ্যই রোগীদের এবং সম্প্রদায়ের সাথে কার্যকরভাবে কাজ করতে হবে যাতে তারা ব্যাপকভাবে পরিচালনা করতে পারে। \n",
      "\n",
      " Embedding Version : \n"
     ]
    },
    {
     "data": {
      "text/plain": [
       "<tf.Tensor: shape=(1, 11, 128), dtype=float32, numpy=\n",
       "array([[[ 0.00051565,  0.02914539,  0.00675245, ...,  0.01728383,\n",
       "          0.02105465,  0.01731611],\n",
       "        [ 0.01672076, -0.04900774,  0.0163192 , ..., -0.02764123,\n",
       "          0.04497671, -0.00768862],\n",
       "        [-0.03269236,  0.02565442,  0.03640323, ..., -0.00589502,\n",
       "          0.00695944, -0.04884453],\n",
       "        ...,\n",
       "        [-0.0241183 , -0.04309009,  0.01391038, ..., -0.04418991,\n",
       "         -0.0177781 ,  0.02394113],\n",
       "        [ 0.04534632,  0.00550866, -0.04174482, ...,  0.02079831,\n",
       "          0.04747975,  0.00638709],\n",
       "        [-0.00983083, -0.01394055, -0.04556079, ..., -0.02064484,\n",
       "         -0.03279734, -0.04134419]]], dtype=float32)>"
      ]
     },
     "execution_count": 206,
     "metadata": {},
     "output_type": "execute_result"
    }
   ],
   "source": [
    "random_sentence = random.choice(train_sentence)\n",
    "\n",
    "print(f\" Original Text :\\n\\n {random_sentence} \\n\\n Embedding Version : \")\n",
    "sample_emb = embedding(text_vectorized([random_sentence])) \n",
    "sample_emb"
   ]
  },
  {
   "cell_type": "code",
   "execution_count": 207,
   "metadata": {},
   "outputs": [
    {
     "data": {
      "text/plain": [
       "<tf.Tensor: shape=(128,), dtype=float32, numpy=\n",
       "array([ 0.00051565,  0.02914539,  0.00675245, -0.02036275,  0.01523408,\n",
       "        0.02897325,  0.00225223,  0.03368625, -0.04127864,  0.03400436,\n",
       "       -0.00960358,  0.01642314,  0.03975615,  0.00669307,  0.01769874,\n",
       "       -0.02109981,  0.03000016,  0.04673835,  0.04866878, -0.04557038,\n",
       "        0.02613202, -0.00147577, -0.02890285, -0.04175503, -0.04895945,\n",
       "       -0.01824268,  0.01056148,  0.02896241, -0.00287686,  0.0197514 ,\n",
       "        0.03600316, -0.01842361,  0.00825878,  0.0488991 ,  0.0461713 ,\n",
       "        0.01072968,  0.010236  ,  0.04149039,  0.02354988,  0.02520821,\n",
       "       -0.04825497,  0.01012561,  0.0342258 , -0.04171243, -0.04266273,\n",
       "       -0.02998464,  0.04022888, -0.02979335, -0.00058061, -0.03135654,\n",
       "       -0.00838403, -0.03633987, -0.00777141,  0.01539506,  0.00580326,\n",
       "        0.03226092,  0.04919148, -0.02114652, -0.04247082, -0.00839585,\n",
       "       -0.04235336, -0.02334355,  0.03823513, -0.01091648, -0.0439994 ,\n",
       "       -0.04760283, -0.03334639, -0.01891692, -0.04315471,  0.03983955,\n",
       "       -0.00863371, -0.02877376,  0.02144328,  0.00528184,  0.0030278 ,\n",
       "        0.0403275 , -0.02599425, -0.03877942,  0.01124873, -0.0158218 ,\n",
       "        0.0490436 ,  0.04408744, -0.0060822 ,  0.02094146,  0.02280888,\n",
       "        0.02335255, -0.03618547, -0.02390308,  0.01571245,  0.01602521,\n",
       "       -0.01994374, -0.00333919,  0.02992887, -0.02592255,  0.02004845,\n",
       "       -0.04839351,  0.01580032,  0.03153506,  0.01181684,  0.03687713,\n",
       "       -0.01909895,  0.0276711 , -0.00058477, -0.03975656,  0.03407288,\n",
       "        0.04835589, -0.00070738, -0.03699078,  0.02244384,  0.01576941,\n",
       "        0.01747486, -0.04420143, -0.01847076,  0.0100189 , -0.03142426,\n",
       "        0.04743042,  0.03550806, -0.00370835,  0.02393259,  0.03579208,\n",
       "        0.03324508,  0.0041608 , -0.04566089, -0.03827029, -0.01015653,\n",
       "        0.01728383,  0.02105465,  0.01731611], dtype=float32)>"
      ]
     },
     "execution_count": 207,
     "metadata": {},
     "output_type": "execute_result"
    }
   ],
   "source": [
    "sample_emb[0][0]"
   ]
  },
  {
   "attachments": {},
   "cell_type": "markdown",
   "metadata": {},
   "source": [
    "### Model 1 : Naive Bayes Classifier"
   ]
  },
  {
   "cell_type": "code",
   "execution_count": 208,
   "metadata": {},
   "outputs": [
    {
     "data": {
      "text/html": [
       "<style>#sk-container-id-4 {color: black;background-color: white;}#sk-container-id-4 pre{padding: 0;}#sk-container-id-4 div.sk-toggleable {background-color: white;}#sk-container-id-4 label.sk-toggleable__label {cursor: pointer;display: block;width: 100%;margin-bottom: 0;padding: 0.3em;box-sizing: border-box;text-align: center;}#sk-container-id-4 label.sk-toggleable__label-arrow:before {content: \"▸\";float: left;margin-right: 0.25em;color: #696969;}#sk-container-id-4 label.sk-toggleable__label-arrow:hover:before {color: black;}#sk-container-id-4 div.sk-estimator:hover label.sk-toggleable__label-arrow:before {color: black;}#sk-container-id-4 div.sk-toggleable__content {max-height: 0;max-width: 0;overflow: hidden;text-align: left;background-color: #f0f8ff;}#sk-container-id-4 div.sk-toggleable__content pre {margin: 0.2em;color: black;border-radius: 0.25em;background-color: #f0f8ff;}#sk-container-id-4 input.sk-toggleable__control:checked~div.sk-toggleable__content {max-height: 200px;max-width: 100%;overflow: auto;}#sk-container-id-4 input.sk-toggleable__control:checked~label.sk-toggleable__label-arrow:before {content: \"▾\";}#sk-container-id-4 div.sk-estimator input.sk-toggleable__control:checked~label.sk-toggleable__label {background-color: #d4ebff;}#sk-container-id-4 div.sk-label input.sk-toggleable__control:checked~label.sk-toggleable__label {background-color: #d4ebff;}#sk-container-id-4 input.sk-hidden--visually {border: 0;clip: rect(1px 1px 1px 1px);clip: rect(1px, 1px, 1px, 1px);height: 1px;margin: -1px;overflow: hidden;padding: 0;position: absolute;width: 1px;}#sk-container-id-4 div.sk-estimator {font-family: monospace;background-color: #f0f8ff;border: 1px dotted black;border-radius: 0.25em;box-sizing: border-box;margin-bottom: 0.5em;}#sk-container-id-4 div.sk-estimator:hover {background-color: #d4ebff;}#sk-container-id-4 div.sk-parallel-item::after {content: \"\";width: 100%;border-bottom: 1px solid gray;flex-grow: 1;}#sk-container-id-4 div.sk-label:hover label.sk-toggleable__label {background-color: #d4ebff;}#sk-container-id-4 div.sk-serial::before {content: \"\";position: absolute;border-left: 1px solid gray;box-sizing: border-box;top: 0;bottom: 0;left: 50%;z-index: 0;}#sk-container-id-4 div.sk-serial {display: flex;flex-direction: column;align-items: center;background-color: white;padding-right: 0.2em;padding-left: 0.2em;position: relative;}#sk-container-id-4 div.sk-item {position: relative;z-index: 1;}#sk-container-id-4 div.sk-parallel {display: flex;align-items: stretch;justify-content: center;background-color: white;position: relative;}#sk-container-id-4 div.sk-item::before, #sk-container-id-4 div.sk-parallel-item::before {content: \"\";position: absolute;border-left: 1px solid gray;box-sizing: border-box;top: 0;bottom: 0;left: 50%;z-index: -1;}#sk-container-id-4 div.sk-parallel-item {display: flex;flex-direction: column;z-index: 1;position: relative;background-color: white;}#sk-container-id-4 div.sk-parallel-item:first-child::after {align-self: flex-end;width: 50%;}#sk-container-id-4 div.sk-parallel-item:last-child::after {align-self: flex-start;width: 50%;}#sk-container-id-4 div.sk-parallel-item:only-child::after {width: 0;}#sk-container-id-4 div.sk-dashed-wrapped {border: 1px dashed gray;margin: 0 0.4em 0.5em 0.4em;box-sizing: border-box;padding-bottom: 0.4em;background-color: white;}#sk-container-id-4 div.sk-label label {font-family: monospace;font-weight: bold;display: inline-block;line-height: 1.2em;}#sk-container-id-4 div.sk-label-container {text-align: center;}#sk-container-id-4 div.sk-container {/* jupyter's `normalize.less` sets `[hidden] { display: none; }` but bootstrap.min.css set `[hidden] { display: none !important; }` so we also need the `!important` here to be able to override the default hidden behavior on the sphinx rendered scikit-learn.org. See: https://github.com/scikit-learn/scikit-learn/issues/21755 */display: inline-block !important;position: relative;}#sk-container-id-4 div.sk-text-repr-fallback {display: none;}</style><div id=\"sk-container-id-4\" class=\"sk-top-container\"><div class=\"sk-text-repr-fallback\"><pre>Pipeline(steps=[(&#x27;tfidf&#x27;, TfidfVectorizer()), (&#x27;multiNB&#x27;, MultinomialNB())])</pre><b>In a Jupyter environment, please rerun this cell to show the HTML representation or trust the notebook. <br />On GitHub, the HTML representation is unable to render, please try loading this page with nbviewer.org.</b></div><div class=\"sk-container\" hidden><div class=\"sk-item sk-dashed-wrapped\"><div class=\"sk-label-container\"><div class=\"sk-label sk-toggleable\"><input class=\"sk-toggleable__control sk-hidden--visually\" id=\"sk-estimator-id-10\" type=\"checkbox\" ><label for=\"sk-estimator-id-10\" class=\"sk-toggleable__label sk-toggleable__label-arrow\">Pipeline</label><div class=\"sk-toggleable__content\"><pre>Pipeline(steps=[(&#x27;tfidf&#x27;, TfidfVectorizer()), (&#x27;multiNB&#x27;, MultinomialNB())])</pre></div></div></div><div class=\"sk-serial\"><div class=\"sk-item\"><div class=\"sk-estimator sk-toggleable\"><input class=\"sk-toggleable__control sk-hidden--visually\" id=\"sk-estimator-id-11\" type=\"checkbox\" ><label for=\"sk-estimator-id-11\" class=\"sk-toggleable__label sk-toggleable__label-arrow\">TfidfVectorizer</label><div class=\"sk-toggleable__content\"><pre>TfidfVectorizer()</pre></div></div></div><div class=\"sk-item\"><div class=\"sk-estimator sk-toggleable\"><input class=\"sk-toggleable__control sk-hidden--visually\" id=\"sk-estimator-id-12\" type=\"checkbox\" ><label for=\"sk-estimator-id-12\" class=\"sk-toggleable__label sk-toggleable__label-arrow\">MultinomialNB</label><div class=\"sk-toggleable__content\"><pre>MultinomialNB()</pre></div></div></div></div></div></div></div>"
      ],
      "text/plain": [
       "Pipeline(steps=[('tfidf', TfidfVectorizer()), ('multiNB', MultinomialNB())])"
      ]
     },
     "execution_count": 208,
     "metadata": {},
     "output_type": "execute_result"
    }
   ],
   "source": [
    "\n",
    "from sklearn.feature_extraction.text import TfidfVectorizer\n",
    "from sklearn.naive_bayes import MultinomialNB\n",
    "from sklearn.pipeline import Pipeline\n",
    "\n",
    "\n",
    "model_naive_bayes = Pipeline([\n",
    "    ('tfidf',TfidfVectorizer()),\n",
    "    ('multiNB',MultinomialNB())\n",
    "])\n",
    "\n",
    "model_naive_bayes.fit(train_sentence,train_label)"
   ]
  },
  {
   "cell_type": "code",
   "execution_count": 209,
   "metadata": {},
   "outputs": [
    {
     "name": "stdout",
     "output_type": "stream",
     "text": [
      "Our Naive Bayes accuracy: 66.80 %\n"
     ]
    }
   ],
   "source": [
    "score = model_naive_bayes.score(test_sentence,test_label)\n",
    "print(f'Our Naive Bayes accuracy: {score*100:.2f} %')"
   ]
  },
  {
   "cell_type": "code",
   "execution_count": 210,
   "metadata": {},
   "outputs": [
    {
     "data": {
      "text/plain": [
       "(array([0, 0, 0, 1, 0]), array([0, 0, 1, 0, 0]))"
      ]
     },
     "execution_count": 210,
     "metadata": {},
     "output_type": "execute_result"
    }
   ],
   "source": [
    "\n",
    "# Prediction Test\n",
    "\n",
    "naive_bayes_pred = model_naive_bayes.predict(test_sentence[:5])\n",
    "\n",
    "naive_bayes_pred[:5], test_label[:5]"
   ]
  },
  {
   "cell_type": "code",
   "execution_count": 211,
   "metadata": {},
   "outputs": [
    {
     "data": {
      "text/plain": [
       "(array([0]), 0)"
      ]
     },
     "execution_count": 211,
     "metadata": {},
     "output_type": "execute_result"
    }
   ],
   "source": [
    "model_naive_bayes.predict([test_sentence[1]]),test_label[1]"
   ]
  },
  {
   "cell_type": "code",
   "execution_count": 212,
   "metadata": {},
   "outputs": [
    {
     "name": "stdout",
     "output_type": "stream",
     "text": [
      "Text: আপনারা সবাই টিকা নেবেন। এটা আপনার কর্তব্য।  pred: 1 original: 0\n",
      "\n",
      "\n",
      "Text: আমাদের স্কুল থেকে বলা হয়েছে সেখান থেকে টিকা দেওয়ার কোন ব্যবস্থা করা হবে না।   pred: 1 original: 0\n",
      "\n",
      "\n",
      "Text: এখন ও অনেক মানুষ টিকা না নিয়ে ঘুরে বেরাচ্ছে তাদের কি করবেন?  pred: 0 original: 0\n",
      "\n",
      "\n",
      "Text: কেন্দ্রে ভেক্সিন কার্যক্রম পরিচালনাকারী কাউকে চোখে পড়েনি।  pred: 0 original: 0\n",
      "\n",
      "\n",
      "Text: করোনা হলে কোভিড এর টীকা নিব, এখন না।  pred: 0 original: 0\n",
      "\n",
      "\n"
     ]
    }
   ],
   "source": [
    "rdint = random.randint(0,abs(len(test_sentence) -5))\n",
    "\n",
    "for i,word in enumerate(test_sentence[rdint:rdint+5]):\n",
    "  \n",
    "    print(f\"Text: {word}  pred: {model_naive_bayes.predict([word])[0]} original: {test_label[rdint+i+1]}\\n\\n\")"
   ]
  },
  {
   "cell_type": "code",
   "execution_count": 213,
   "metadata": {},
   "outputs": [],
   "source": [
    "# Calculate Accuracy\n",
    "\n",
    "from sklearn.metrics import accuracy_score, precision_recall_fscore_support\n",
    "\n",
    "def calculate_results(y_true,y_pred):\n",
    "    model_accuracy = accuracy_score(y_true,y_pred) *100\n",
    "    precision,recall,f1,_ = precision_recall_fscore_support(y_true,y_pred,average='weighted')\n",
    "    model_result = {\n",
    "        'accuracy':model_accuracy,\n",
    "        'precision':precision,\n",
    "        'recall':recall,\n",
    "        'f1':f1\n",
    "    }\n",
    "    return model_result"
   ]
  },
  {
   "cell_type": "code",
   "execution_count": 214,
   "metadata": {},
   "outputs": [
    {
     "data": {
      "text/plain": [
       "{'accuracy': 66.7979002624672,\n",
       " 'precision': 0.6960798636606401,\n",
       " 'recall': 0.6679790026246719,\n",
       " 'f1': 0.6729967926241313}"
      ]
     },
     "execution_count": 214,
     "metadata": {},
     "output_type": "execute_result"
    }
   ],
   "source": [
    "calculate_results(model_naive_bayes.predict(test_sentence),test_label)"
   ]
  },
  {
   "cell_type": "code",
   "execution_count": 215,
   "metadata": {},
   "outputs": [],
   "source": [
    "import pickle\n",
    "with open ('models/naive_bayes.pkl', 'wb') as f:\n",
    "    pickle.dump(model_naive_bayes,f)"
   ]
  },
  {
   "cell_type": "code",
   "execution_count": 216,
   "metadata": {},
   "outputs": [],
   "source": [
    "class BuildModel():\n",
    "\n",
    "    def __init__(self,train_sentence,train_label,test_sentence,test_label,algo) -> None:\n",
    "        self.train_sentence = train_sentence\n",
    "        self.train_label = train_label\n",
    "        self.test_sentence = test_sentence\n",
    "        self.test_label = test_label\n",
    "        self.algo = algo\n",
    "\n",
    "    \n",
    "    def run(self):\n",
    "        self.build_model()\n",
    "        self.score()\n",
    "        return self.calculate_results()\n",
    "\n",
    "    def build_model(self):\n",
    "        self.model = Pipeline([\n",
    "            ('tfidf', TfidfVectorizer()),\n",
    "            ('algo',algo)\n",
    "        ])\n",
    "        return self.model.fit(self.train_sentence,train_label)\n",
    "    \n",
    "    def score(self):\n",
    "        return self.model.score(test_sentence,test_label)\n",
    "\n",
    "    def calculate_results(self):\n",
    "        y_true = test_label\n",
    "        y_pred = self.model.predict(test_sentence)\n",
    "        model_accuracy = accuracy_score(y_true,y_pred) *100\n",
    "        precision,recall,f1,_ = precision_recall_fscore_support(y_true,y_pred,average='weighted')\n",
    "        model_result = {\n",
    "            'accuracy':model_accuracy,\n",
    "            'precision':precision,\n",
    "            'recall':recall,\n",
    "            'f1':f1\n",
    "        }\n",
    "        return model_result\n",
    "\n",
    "        "
   ]
  },
  {
   "cell_type": "code",
   "execution_count": 217,
   "metadata": {},
   "outputs": [
    {
     "data": {
      "text/plain": [
       "{'accuracy': 66.7979002624672,\n",
       " 'precision': 0.6768599962715631,\n",
       " 'recall': 0.6679790026246719,\n",
       " 'f1': 0.6629612126252126}"
      ]
     },
     "execution_count": 217,
     "metadata": {},
     "output_type": "execute_result"
    }
   ],
   "source": [
    "\n",
    "\n",
    "naive_bayes_model_run = BuildModel(train_sentence,train_label,test_sentence,test_label,algo=MultinomialNB())\n",
    "naive_bayes_model_run.run()"
   ]
  },
  {
   "cell_type": "code",
   "execution_count": 218,
   "metadata": {},
   "outputs": [
    {
     "data": {
      "text/plain": [
       "{'accuracy': 66.7979002624672,\n",
       " 'precision': 0.6768599962715631,\n",
       " 'recall': 0.6679790026246719,\n",
       " 'f1': 0.6629612126252126}"
      ]
     },
     "execution_count": 218,
     "metadata": {},
     "output_type": "execute_result"
    }
   ],
   "source": [
    "from sklearn.ensemble import RandomForestClassifier\n",
    "\n",
    "svc = BuildModel(train_sentence,train_label,test_sentence,test_label,algo=RandomForestClassifier())\n",
    "svc.run()"
   ]
  },
  {
   "cell_type": "code",
   "execution_count": null,
   "metadata": {},
   "outputs": [],
   "source": []
  },
  {
   "cell_type": "code",
   "execution_count": 241,
   "metadata": {},
   "outputs": [],
   "source": [
    "# Building Neural Network \n",
    "import keras as ks\n",
    "from keras import layers,Model\n",
    "\n",
    "input = layers.Input(shape=(1,), dtype=\"string\")\n",
    "x = text_vectorized(input)\n",
    "x = embedding(x)\n",
    "x = layers.GlobalAveragePooling1D()(x)\n",
    "output = layers.Dense(1, activation=\"sigmoid\")(x)\n",
    "nn_model = Model(input,output)\n"
   ]
  },
  {
   "cell_type": "code",
   "execution_count": 242,
   "metadata": {},
   "outputs": [],
   "source": [
    "nn_model.compile(loss='binary_crossentropy',optimizer=\"Adam\",metrics=['accuracy'])"
   ]
  },
  {
   "cell_type": "code",
   "execution_count": 243,
   "metadata": {},
   "outputs": [
    {
     "name": "stdout",
     "output_type": "stream",
     "text": [
      "Model: \"model_3\"\n",
      "_________________________________________________________________\n",
      " Layer (type)                Output Shape              Param #   \n",
      "=================================================================\n",
      " input_8 (InputLayer)        [(None, 1)]               0         \n",
      "                                                                 \n",
      " text_vectorization_5 (TextV  (None, 11)               0         \n",
      " ectorization)                                                   \n",
      "                                                                 \n",
      " embedding (Embedding)       (None, 11, 128)           1280000   \n",
      "                                                                 \n",
      " global_average_pooling1d (G  (None, 128)              0         \n",
      " lobalAveragePooling1D)                                          \n",
      "                                                                 \n",
      " dense_5 (Dense)             (None, 1)                 129       \n",
      "                                                                 \n",
      "=================================================================\n",
      "Total params: 1,280,129\n",
      "Trainable params: 1,280,129\n",
      "Non-trainable params: 0\n",
      "_________________________________________________________________\n"
     ]
    }
   ],
   "source": [
    "nn_model.summary()"
   ]
  },
  {
   "cell_type": "code",
   "execution_count": 244,
   "metadata": {},
   "outputs": [
    {
     "name": "stdout",
     "output_type": "stream",
     "text": [
      "Epoch 1/5\n",
      "96/96 [==============================] - 3s 11ms/step - loss: 0.6707 - accuracy: 0.7126\n",
      "Epoch 2/5\n",
      "96/96 [==============================] - 1s 13ms/step - loss: 0.5661 - accuracy: 0.8187\n",
      "Epoch 3/5\n",
      "96/96 [==============================] - 1s 11ms/step - loss: 0.4463 - accuracy: 0.8502\n",
      "Epoch 4/5\n",
      "96/96 [==============================] - 1s 11ms/step - loss: 0.3617 - accuracy: 0.8752\n",
      "Epoch 5/5\n",
      "96/96 [==============================] - 1s 11ms/step - loss: 0.3020 - accuracy: 0.8975\n"
     ]
    }
   ],
   "source": [
    "nn_history = nn_model.fit(train_sentence,train_label, epochs=5)"
   ]
  },
  {
   "cell_type": "code",
   "execution_count": 247,
   "metadata": {},
   "outputs": [
    {
     "name": "stdout",
     "output_type": "stream",
     "text": [
      "24/24 [==============================] - 0s 4ms/step\n"
     ]
    }
   ],
   "source": [
    "\n",
    "nn_pred = tf.squeeze(tf.round(nn_model.predict(test_sentence))) "
   ]
  },
  {
   "cell_type": "code",
   "execution_count": 248,
   "metadata": {},
   "outputs": [
    {
     "data": {
      "text/plain": [
       "{'accuracy': 77.82152230971128,\n",
       " 'precision': 0.7842485540551773,\n",
       " 'recall': 0.7782152230971129,\n",
       " 'f1': 0.7767896757115735}"
      ]
     },
     "execution_count": 248,
     "metadata": {},
     "output_type": "execute_result"
    }
   ],
   "source": [
    "calculate_results(test_label,nn_pred)"
   ]
  },
  {
   "cell_type": "code",
   "execution_count": 249,
   "metadata": {},
   "outputs": [
    {
     "name": "stderr",
     "output_type": "stream",
     "text": [
      "WARNING:absl:Found untraced functions such as _update_step_xla while saving (showing 1 of 1). These functions will not be directly callable after loading.\n"
     ]
    },
    {
     "name": "stdout",
     "output_type": "stream",
     "text": [
      "INFO:tensorflow:Assets written to: models/nn_model/assets\n"
     ]
    },
    {
     "name": "stderr",
     "output_type": "stream",
     "text": [
      "INFO:tensorflow:Assets written to: models/nn_model/assets\n"
     ]
    }
   ],
   "source": [
    "nn_model.save('models/nn_model')"
   ]
  },
  {
   "cell_type": "code",
   "execution_count": null,
   "metadata": {},
   "outputs": [],
   "source": []
  }
 ],
 "metadata": {
  "kernelspec": {
   "display_name": "sa",
   "language": "python",
   "name": "python3"
  },
  "language_info": {
   "codemirror_mode": {
    "name": "ipython",
    "version": 3
   },
   "file_extension": ".py",
   "mimetype": "text/x-python",
   "name": "python",
   "nbconvert_exporter": "python",
   "pygments_lexer": "ipython3",
   "version": "3.10.6"
  },
  "orig_nbformat": 4,
  "vscode": {
   "interpreter": {
    "hash": "e7a953df4ee69ec09dd56fea91967cb10624f226bf344b0f5b6b75f7b361f6cc"
   }
  }
 },
 "nbformat": 4,
 "nbformat_minor": 2
}
